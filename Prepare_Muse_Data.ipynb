{
 "cells": [
  {
   "cell_type": "markdown",
   "metadata": {},
   "source": [
    "## Prepare Muse"
   ]
  },
  {
   "cell_type": "code",
   "execution_count": 1,
   "metadata": {},
   "outputs": [],
   "source": [
    "import numpy as np\n",
    "import pandas as pd\n",
    "import os"
   ]
  },
  {
   "cell_type": "code",
   "execution_count": 2,
   "metadata": {},
   "outputs": [],
   "source": [
    "m_path = r'\\\\ir1-nasrst-p03\\nasuni\\Bru\\static\\lab_data\\Nyx\\OvernightsFOS'\n",
    "output_dir = r'\\\\ir1-nasrst-p03\\nasuni\\Bru\\static\\lab_data\\Nyx\\OvernightsFOS_proc'"
   ]
  },
  {
   "cell_type": "code",
   "execution_count": 3,
   "metadata": {},
   "outputs": [],
   "source": [
    "files=os.listdir(m_path)"
   ]
  },
  {
   "cell_type": "code",
   "execution_count": 4,
   "metadata": {},
   "outputs": [
    {
     "data": {
      "text/plain": [
       "['22.csv',\n",
       " 'ID143_2024-02-15--22-10-35_763601666229345239.csv',\n",
       " 'ID159_2024-02-16--00-08-16_656872965849429911.csv',\n",
       " 'ID160_2024-02-13--23-45-53_1315356916044442319.csv',\n",
       " 'ID166_2024-02-14--21-58-07_2287995164915597982.csv',\n",
       " 'ID166_2024-02-21--23-34-37_1099229584771097297.csv',\n",
       " 'ID170_2024-02-14--21-26-44_7233461900097302942.csv',\n",
       " 'ID171_2024-02-20--00-00-01_736228705208675944.csv']"
      ]
     },
     "execution_count": 4,
     "metadata": {},
     "output_type": "execute_result"
    }
   ],
   "source": [
    "files"
   ]
  },
  {
   "cell_type": "code",
   "execution_count": 5,
   "metadata": {},
   "outputs": [],
   "source": [
    "from scipy.signal import butter, sosfilt\n",
    "def filter_down(eeg_data, lowcut=.05, highcut=25, order=50, sample_in=100, sample_out=32):\n",
    "\n",
    "    # Calculate the Nyquist frequency\n",
    "    nyquist_freq = 0.5 * sample_in\n",
    "\n",
    "    # Calculate the filter coefficients\n",
    "    sos = butter(order, [lowcut / nyquist_freq, highcut / nyquist_freq], btype='bandpass', output='sos')\n",
    "\n",
    "    # Apply the filter to the EEG data\n",
    "    filtered_eeg = sosfilt(sos, eeg_data)\n",
    "\n",
    "    #fandd=fast_resample(filtered_eeg, fs_out=sample_in, fs_in=sample_out)\n",
    "    return filtered_eeg[::2]#fandd"
   ]
  },
  {
   "cell_type": "code",
   "execution_count": 20,
   "metadata": {},
   "outputs": [],
   "source": [
    "for i, file in enumerate(files):    \n",
    "    EEG = pd.read_csv(os.path.join(m_path,file), usecols=['RAW_AF7'])\n",
    "    f_d_eeg=filter_down(EEG, lowcut=.05, highcut=62, order=5, sample_in=256, sample_out=125)\n",
    "    n_epochs=int(f_d_eeg.shape[0]//(30*100))\n",
    "    x = np.asarray(np.split(f_d_eeg[:n_epochs*(30*100)], n_epochs)).astype(np.float32)[:, :, 0]\n",
    "    # Save\n",
    "    filename = str(i) + '.npz'\n",
    "    save_dict = {\n",
    "        \"x\": x, \n",
    "        \"y\": 'NA', \n",
    "        \"fs\": 125,\n",
    "        \"ch_label\": 'AF7',\n",
    "        \"header_raw\": 'NA',\n",
    "        \"header_annotation\": 'NA',\n",
    "    }\n",
    "    np.savez(os.path.join(output_dir, filename), **save_dict)\n"
   ]
  },
  {
   "cell_type": "code",
   "execution_count": 21,
   "metadata": {},
   "outputs": [],
   "source": [
    "f=np.load(os.path.join(output_dir, filename))"
   ]
  },
  {
   "cell_type": "code",
   "execution_count": 22,
   "metadata": {},
   "outputs": [
    {
     "data": {
      "text/plain": [
       "(944, 3000)"
      ]
     },
     "execution_count": 22,
     "metadata": {},
     "output_type": "execute_result"
    }
   ],
   "source": [
    "f['x'].shape"
   ]
  },
  {
   "cell_type": "code",
   "execution_count": null,
   "metadata": {},
   "outputs": [],
   "source": [
    "# Save\n",
    "filename = str(i) + '.npz'\n",
    "save_dict = {\n",
    "    \"x\": f_d_eeg, \n",
    "    \"y\": 'NA', \n",
    "    \"fs\": 125,\n",
    "    \"ch_label\": 'AF7',\n",
    "    \"header_raw\": 'NA',\n",
    "    \"header_annotation\": 'NA',\n",
    "}\n",
    "np.savez(os.path.join(args.output_dir, filename), **save_dict)"
   ]
  }
 ],
 "metadata": {
  "kernelspec": {
   "display_name": "Python 3",
   "language": "python",
   "name": "python3"
  },
  "language_info": {
   "codemirror_mode": {
    "name": "ipython",
    "version": 3
   },
   "file_extension": ".py",
   "mimetype": "text/x-python",
   "name": "python",
   "nbconvert_exporter": "python",
   "pygments_lexer": "ipython3",
   "version": "3.9.0"
  }
 },
 "nbformat": 4,
 "nbformat_minor": 2
}
