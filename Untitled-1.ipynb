{
 "cells": [
  {
   "cell_type": "code",
   "execution_count": 1,
   "metadata": {},
   "outputs": [],
   "source": [
    "import numpy as np"
   ]
  },
  {
   "cell_type": "code",
   "execution_count": 2,
   "metadata": {},
   "outputs": [
    {
     "data": {
      "text/plain": [
       "array([[19, 10,  5,  7],\n",
       "       [10,  7, 19, 14],\n",
       "       [ 4, 11,  7,  0],\n",
       "       [ 9, 14,  2, 19],\n",
       "       [15,  6, 19,  1],\n",
       "       [12, 19, 14,  0],\n",
       "       [10,  7, 19,  1],\n",
       "       [12,  6,  9, 17],\n",
       "       [16,  6, 15, 17],\n",
       "       [12, 17, 19,  1],\n",
       "       [18, 15, 17,  5],\n",
       "       [18, 13,  7,  3],\n",
       "       [ 7,  4,  8, 15],\n",
       "       [ 4, 10,  6, 18],\n",
       "       [13, 11,  1, 19],\n",
       "       [ 5,  9, 12,  3],\n",
       "       [ 7,  4,  8, 18],\n",
       "       [ 4, 15,  1,  5],\n",
       "       [ 9,  3, 11, 19],\n",
       "       [ 8, 17, 13,  9]], dtype=int64)"
      ]
     },
     "execution_count": 2,
     "metadata": {},
     "output_type": "execute_result"
    }
   ],
   "source": [
    "np.load('split_idx\\idx_Sleep-EDF.npy')"
   ]
  }
 ],
 "metadata": {
  "kernelspec": {
   "display_name": "Python 3",
   "language": "python",
   "name": "python3"
  },
  "language_info": {
   "codemirror_mode": {
    "name": "ipython",
    "version": 3
   },
   "file_extension": ".py",
   "mimetype": "text/x-python",
   "name": "python",
   "nbconvert_exporter": "python",
   "pygments_lexer": "ipython3",
   "version": "3.9.0"
  }
 },
 "nbformat": 4,
 "nbformat_minor": 2
}
