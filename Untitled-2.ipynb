{
 "cells": [
  {
   "cell_type": "code",
   "execution_count": 27,
   "metadata": {},
   "outputs": [],
   "source": [
    "import numpy as np"
   ]
  },
  {
   "cell_type": "code",
   "execution_count": 28,
   "metadata": {},
   "outputs": [],
   "source": [
    "file=np.load('split_idx\\idx_Sleep-EDF.npy')"
   ]
  },
  {
   "cell_type": "code",
   "execution_count": 29,
   "metadata": {},
   "outputs": [
    {
     "data": {
      "text/plain": [
       "(20, 4)"
      ]
     },
     "execution_count": 29,
     "metadata": {},
     "output_type": "execute_result"
    }
   ],
   "source": [
    "file.shape"
   ]
  },
  {
   "cell_type": "code",
   "execution_count": 30,
   "metadata": {},
   "outputs": [
    {
     "data": {
      "text/plain": [
       "array([[19, 10,  5,  7],\n",
       "       [10,  7, 19, 14],\n",
       "       [ 4, 11,  7,  0],\n",
       "       [ 9, 14,  2, 19],\n",
       "       [15,  6, 19,  1],\n",
       "       [12, 19, 14,  0],\n",
       "       [10,  7, 19,  1],\n",
       "       [12,  6,  9, 17],\n",
       "       [16,  6, 15, 17],\n",
       "       [12, 17, 19,  1],\n",
       "       [18, 15, 17,  5],\n",
       "       [18, 13,  7,  3],\n",
       "       [ 7,  4,  8, 15],\n",
       "       [ 4, 10,  6, 18],\n",
       "       [13, 11,  1, 19],\n",
       "       [ 5,  9, 12,  3],\n",
       "       [ 7,  4,  8, 18],\n",
       "       [ 4, 15,  1,  5],\n",
       "       [ 9,  3, 11, 19],\n",
       "       [ 8, 17, 13,  9]], dtype=int64)"
      ]
     },
     "execution_count": 30,
     "metadata": {},
     "output_type": "execute_result"
    }
   ],
   "source": [
    "file"
   ]
  },
  {
   "cell_type": "code",
   "execution_count": 31,
   "metadata": {},
   "outputs": [],
   "source": [
    "import json\n",
    "with open(r'C:\\Users\\FeargalOS\\IITNet-official\\configs\\TinySleepNet_Sleep-EDF_SL-01.json') as config_file:\n",
    "    config = json.load(config_file)"
   ]
  },
  {
   "cell_type": "code",
   "execution_count": 32,
   "metadata": {},
   "outputs": [],
   "source": [
    "from loader import EEGDataLoader\n",
    "\n",
    "dataset_args = {'config': config, 'fold': 0}\n",
    "Hz32=EEGDataLoader(mode='train', **dataset_args)\n"
   ]
  },
  {
   "cell_type": "code",
   "execution_count": 33,
   "metadata": {},
   "outputs": [
    {
     "data": {
      "text/plain": [
       "(tensor([3.1103e-24]), tensor(0))"
      ]
     },
     "execution_count": 33,
     "metadata": {},
     "output_type": "execute_result"
    }
   ],
   "source": [
    "next(iter(Hz32))#.shape"
   ]
  },
  {
   "cell_type": "code",
   "execution_count": 34,
   "metadata": {},
   "outputs": [
    {
     "name": "stdout",
     "output_type": "stream",
     "text": [
      "Extracting EDF parameters from C:\\Users\\FeargalOS\\Downloads\\sleep-edf-database-expanded-1.0.0\\sleep-edf-database-expanded-1.0.0\\sleep-cassette\\SC4001E0-PSG.edf...\n",
      "EDF file detected\n",
      "Setting channel info structure...\n",
      "Creating raw.info structure...\n",
      "Reading 0 ... 7949999  =      0.000 ... 79499.990 secs...\n"
     ]
    },
    {
     "ename": "NameError",
     "evalue": "name 'filter_down' is not defined",
     "output_type": "error",
     "traceback": [
      "\u001b[1;31m---------------------------------------------------------------------------\u001b[0m",
      "\u001b[1;31mNameError\u001b[0m                                 Traceback (most recent call last)",
      "Cell \u001b[1;32mIn[34], line 7\u001b[0m\n\u001b[0;32m      5\u001b[0m raw_ch_df \u001b[38;5;241m=\u001b[39m raw\u001b[38;5;241m.\u001b[39mto_data_frame(scalings\u001b[38;5;241m=\u001b[39m\u001b[38;5;241m100.0\u001b[39m)[\u001b[38;5;124m'\u001b[39m\u001b[38;5;124mEEG Fpz-Cz\u001b[39m\u001b[38;5;124m'\u001b[39m]\n\u001b[0;32m      6\u001b[0m \u001b[38;5;66;03m#raw_ch_df = raw_ch_df.to_frame()\u001b[39;00m\n\u001b[1;32m----> 7\u001b[0m raw_ch_df\u001b[38;5;241m=\u001b[39mpd\u001b[38;5;241m.\u001b[39mDataFrame({\u001b[38;5;124m'\u001b[39m\u001b[38;5;124mEEG Fpz-Cz\u001b[39m\u001b[38;5;124m'\u001b[39m:\u001b[43mfilter_down\u001b[49m(raw_ch_df\u001b[38;5;241m.\u001b[39mvalues)})\n\u001b[0;32m      8\u001b[0m \u001b[38;5;66;03m#raw_ch_df.set_index(np.arange(len(raw_ch_df)))\u001b[39;00m\n\u001b[0;32m      9\u001b[0m raw_ch_df\u001b[38;5;66;03m#.head()#['EEG Fpz-Cz']\u001b[39;00m\n",
      "\u001b[1;31mNameError\u001b[0m: name 'filter_down' is not defined"
     ]
    }
   ],
   "source": [
    "import mne\n",
    "import pandas as pd\n",
    "raw = mne.io.read_raw_edf(r'C:\\Users\\FeargalOS\\Downloads\\sleep-edf-database-expanded-1.0.0\\sleep-edf-database-expanded-1.0.0\\sleep-cassette\\SC4001E0-PSG.edf', preload=True, stim_channel=None)\n",
    "sampling_rate = 32#raw.info['sfreq']\n",
    "raw_ch_df = raw.to_data_frame(scalings=100.0)['EEG Fpz-Cz']\n",
    "#raw_ch_df = raw_ch_df.to_frame()\n",
    "raw_ch_df=pd.DataFrame({'EEG Fpz-Cz':filter_down(raw_ch_df.values)})\n",
    "#raw_ch_df.set_index(np.arange(len(raw_ch_df)))\n",
    "raw_ch_df#.head()#['EEG Fpz-Cz']"
   ]
  },
  {
   "cell_type": "code",
   "execution_count": null,
   "metadata": {},
   "outputs": [
    {
     "name": "stdout",
     "output_type": "stream",
     "text": [
      "Extracting EDF parameters from C:\\Users\\FeargalOS\\Downloads\\sleep-edf-database-expanded-1.0.0\\sleep-edf-database-expanded-1.0.0\\sleep-cassette\\SC4001E0-PSG.edf...\n",
      "EDF file detected\n",
      "Setting channel info structure...\n",
      "Creating raw.info structure...\n",
      "Reading 0 ... 7949999  =      0.000 ... 79499.990 secs...\n"
     ]
    },
    {
     "data": {
      "text/html": [
       "<div>\n",
       "<style scoped>\n",
       "    .dataframe tbody tr th:only-of-type {\n",
       "        vertical-align: middle;\n",
       "    }\n",
       "\n",
       "    .dataframe tbody tr th {\n",
       "        vertical-align: top;\n",
       "    }\n",
       "\n",
       "    .dataframe thead th {\n",
       "        text-align: right;\n",
       "    }\n",
       "</style>\n",
       "<table border=\"1\" class=\"dataframe\">\n",
       "  <thead>\n",
       "    <tr style=\"text-align: right;\">\n",
       "      <th></th>\n",
       "      <th>EEG Fpz-Cz</th>\n",
       "    </tr>\n",
       "  </thead>\n",
       "  <tbody>\n",
       "    <tr>\n",
       "      <th>0</th>\n",
       "      <td>0.000502</td>\n",
       "    </tr>\n",
       "    <tr>\n",
       "      <th>1</th>\n",
       "      <td>-0.000258</td>\n",
       "    </tr>\n",
       "    <tr>\n",
       "      <th>2</th>\n",
       "      <td>0.000136</td>\n",
       "    </tr>\n",
       "    <tr>\n",
       "      <th>3</th>\n",
       "      <td>-0.000239</td>\n",
       "    </tr>\n",
       "    <tr>\n",
       "      <th>4</th>\n",
       "      <td>-0.000520</td>\n",
       "    </tr>\n",
       "    <tr>\n",
       "      <th>...</th>\n",
       "      <td>...</td>\n",
       "    </tr>\n",
       "    <tr>\n",
       "      <th>7949995</th>\n",
       "      <td>0.001130</td>\n",
       "    </tr>\n",
       "    <tr>\n",
       "      <th>7949996</th>\n",
       "      <td>0.000361</td>\n",
       "    </tr>\n",
       "    <tr>\n",
       "      <th>7949997</th>\n",
       "      <td>0.000530</td>\n",
       "    </tr>\n",
       "    <tr>\n",
       "      <th>7949998</th>\n",
       "      <td>-0.000464</td>\n",
       "    </tr>\n",
       "    <tr>\n",
       "      <th>7949999</th>\n",
       "      <td>0.000661</td>\n",
       "    </tr>\n",
       "  </tbody>\n",
       "</table>\n",
       "<p>7950000 rows × 1 columns</p>\n",
       "</div>"
      ],
      "text/plain": [
       "         EEG Fpz-Cz\n",
       "0          0.000502\n",
       "1         -0.000258\n",
       "2          0.000136\n",
       "3         -0.000239\n",
       "4         -0.000520\n",
       "...             ...\n",
       "7949995    0.001130\n",
       "7949996    0.000361\n",
       "7949997    0.000530\n",
       "7949998   -0.000464\n",
       "7949999    0.000661\n",
       "\n",
       "[7950000 rows x 1 columns]"
      ]
     },
     "execution_count": 111,
     "metadata": {},
     "output_type": "execute_result"
    }
   ],
   "source": [
    "import mne\n",
    "raw = mne.io.read_raw_edf(r'C:\\Users\\FeargalOS\\Downloads\\sleep-edf-database-expanded-1.0.0\\sleep-edf-database-expanded-1.0.0\\sleep-cassette\\SC4001E0-PSG.edf', preload=True, stim_channel=None)\n",
    "sampling_rate = raw.info['sfreq']\n",
    "raw_ch_df = raw.to_data_frame(scalings=100.0)['EEG Fpz-Cz']\n",
    "raw_ch_df = raw_ch_df.to_frame()\n",
    "raw_ch_df.set_index(np.arange(len(raw_ch_df)))"
   ]
  },
  {
   "cell_type": "code",
   "execution_count": null,
   "metadata": {},
   "outputs": [
    {
     "data": {
      "text/plain": [
       "torch.Size([1, 960])"
      ]
     },
     "execution_count": 112,
     "metadata": {},
     "output_type": "execute_result"
    }
   ],
   "source": [
    "next(iter(Hz32))[0].shape"
   ]
  },
  {
   "cell_type": "code",
   "execution_count": null,
   "metadata": {},
   "outputs": [],
   "source": [
    "from scipy.signal import sosfilt, butter\n",
    "\n",
    "def fast_resample(xf,fs_out,fs_in):\n",
    "\t#start_time = time.time()\n",
    "\tif fs_in!=fs_out:    \t\n",
    "        \n",
    "\t\tti = np.arange(0,(len(xf))/fs_in,1/fs_in)\n",
    "\t\tto = np.arange(0,(len(xf))/fs_in,1/fs_out)\n",
    "        \n",
    "\t\tif(len(ti) != len(xf)):\n",
    "\t\t\tti = ti[0:len(xf)]\n",
    "            \n",
    "\t\ty = np.interp(to, ti, xf)  \n",
    "\n",
    "\telse:\n",
    "\t\ty = xf\n",
    "\t#print(\"---%s seconds for resample---\"%(time.time()-start_time))\n",
    "\treturn y\n",
    "\n",
    "def filter_down(eeg_data, lowcut=.05, highcut=16, order=50, sample_in=32, sample_out=100):\n",
    "\n",
    "    # Calculate the Nyquist frequency\n",
    "    nyquist_freq = 0.5 * sample_out\n",
    "\n",
    "    # Calculate the filter coefficients\n",
    "    sos = butter(order, [lowcut / nyquist_freq, highcut / nyquist_freq], btype='bandpass', output='sos')\n",
    "\n",
    "    # Apply the filter to the EEG data\n",
    "    filtered_eeg = sosfilt(sos, eeg_data)\n",
    "\n",
    "    fandd=fast_resample(filtered_eeg, fs_out=sample_in, fs_in=sample_out)\n",
    "    return fandd"
   ]
  },
  {
   "cell_type": "code",
   "execution_count": null,
   "metadata": {},
   "outputs": [
    {
     "data": {
      "text/plain": [
       "torch.Size([1, 3000])"
      ]
     },
     "execution_count": 54,
     "metadata": {},
     "output_type": "execute_result"
    }
   ],
   "source": [
    "\n",
    "\n",
    "x=next(iter(Hz32))[0]\n",
    "import matplotlib.pyplot as plt\n",
    "\n",
    "x.shape\n",
    "\n",
    "\n",
    "\n"
   ]
  },
  {
   "cell_type": "code",
   "execution_count": null,
   "metadata": {},
   "outputs": [],
   "source": []
  },
  {
   "cell_type": "code",
   "execution_count": null,
   "metadata": {},
   "outputs": [
    {
     "data": {
      "text/plain": [
       "[<matplotlib.lines.Line2D at 0x2d2881ed550>]"
      ]
     },
     "execution_count": 49,
     "metadata": {},
     "output_type": "execute_result"
    },
    {
     "data": {
      "image/png": "[encoded data removed]",
      "text/plain": [
       "<Figure size 640x480 with 1 Axes>"
      ]
     },
     "metadata": {},
     "output_type": "display_data"
    }
   ],
   "source": [
    "\n",
    "plt.plot(filter_down(np.array(x.reshape(-1,))))"
   ]
  },
  {
   "cell_type": "code",
   "execution_count": null,
   "metadata": {},
   "outputs": [],
   "source": []
  }
 ],
 "metadata": {
  "kernelspec": {
   "display_name": "Python 3",
   "language": "python",
   "name": "python3"
  },
  "language_info": {
   "codemirror_mode": {
    "name": "ipython",
    "version": 3
   },
   "file_extension": ".py",
   "mimetype": "text/x-python",
   "name": "python",
   "nbconvert_exporter": "python",
   "pygments_lexer": "ipython3",
   "version": "3.9.0"
  }
 },
 "nbformat": 4,
 "nbformat_minor": 2
}
